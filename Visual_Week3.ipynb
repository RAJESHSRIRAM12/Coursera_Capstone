{
 "cells": [
  {
   "cell_type": "markdown",
   "metadata": {},
   "source": [
    "### For Importing the required module from python"
   ]
  },
  {
   "cell_type": "code",
   "execution_count": 1,
   "metadata": {},
   "outputs": [],
   "source": [
    "import pandas as pd\n",
    "import numpy as np\n",
    "#!conda install -c conda-forge folium=0.5.0 --yes # uncomment this line if you haven't completed the Foursquare API lab\n",
    "import folium # map rendering library\n",
    "#!conda install -c conda-forge geopy --yes # uncomment this line if you haven't completed the Foursquare API lab\n",
    "from geopy.geocoders import Nominatim # convert an address into latitude and longitude values"
   ]
  },
  {
   "cell_type": "markdown",
   "metadata": {},
   "source": [
    "### Reading the html data using pd_html and the Bourough not assigned is replaced by NaN"
   ]
  },
  {
   "cell_type": "code",
   "execution_count": 2,
   "metadata": {},
   "outputs": [],
   "source": [
    "d = pd.read_html(\"http://en.wikipedia.org/wiki/List_of_postal_codes_of_Canada:_M\")\n",
    "d1 = pd.read_csv(\"http://cocl.us/Geospatial_data\")\n",
    "df = d[0]\n",
    "#df.dropna(inplace= True)\n",
    "df.replace('Not assigned','NaN',inplace = True)\n",
    "#df_2 = df_1.dropna(subset=['Borough'],axis = 1)\n",
    "#df_2"
   ]
  },
  {
   "cell_type": "markdown",
   "metadata": {},
   "source": [
    "### The change in the data frame is printed"
   ]
  },
  {
   "cell_type": "code",
   "execution_count": null,
   "metadata": {},
   "outputs": [],
   "source": []
  },
  {
   "cell_type": "markdown",
   "metadata": {},
   "source": [
    "### The value in the row is dropped where the Bourough has been assigned as NaN"
   ]
  },
  {
   "cell_type": "code",
   "execution_count": 3,
   "metadata": {},
   "outputs": [],
   "source": [
    "indexNames = df[ (df['Borough'] == 'NaN')].index\n",
    "df.drop(indexNames , inplace=True)\n",
    "\n"
   ]
  },
  {
   "cell_type": "markdown",
   "metadata": {},
   "source": [
    "### The / in the column of Neighborhood is replaced with the ,"
   ]
  },
  {
   "cell_type": "code",
   "execution_count": 4,
   "metadata": {},
   "outputs": [],
   "source": [
    "#df.Name.str.split(\"_\",expand=True)\n",
    "df1 = df['Neighborhood'].str.replace(\"/\",\",\")\n",
    "\n"
   ]
  },
  {
   "cell_type": "markdown",
   "metadata": {},
   "source": [
    "### The replaced value with , in the neighbohrhood is assigned back to the data frame and its shape is printed which is ( 103,3)"
   ]
  },
  {
   "cell_type": "code",
   "execution_count": 5,
   "metadata": {},
   "outputs": [
    {
     "data": {
      "text/plain": [
       "(103, 3)"
      ]
     },
     "execution_count": 5,
     "metadata": {},
     "output_type": "execute_result"
    }
   ],
   "source": [
    "df['Neighborhood'] = df1\n",
    "df.shape\n",
    "\n",
    "\n",
    "\n"
   ]
  },
  {
   "cell_type": "markdown",
   "metadata": {},
   "source": [
    "### The data frame is arranged in the ascending order based on the Postal Code and the index is reset"
   ]
  },
  {
   "cell_type": "code",
   "execution_count": 6,
   "metadata": {},
   "outputs": [],
   "source": [
    "#df.reset_index(inplace= True, drop = True)\n",
    "df.sort_values(by='Postal code',ascending = True, inplace= True)\n",
    "df.reset_index(inplace= True, drop = True)\n"
   ]
  },
  {
   "cell_type": "markdown",
   "metadata": {},
   "source": [
    "### The CSV file which is read in the first cell is sorted by the Postal code such that both the df and d1 are in the same order and then the longitude and the latitude is added to the orignial df "
   ]
  },
  {
   "cell_type": "markdown",
   "metadata": {},
   "source": [
    "#### In this way the required data frame is obtained "
   ]
  },
  {
   "cell_type": "code",
   "execution_count": 7,
   "metadata": {},
   "outputs": [],
   "source": [
    "d1.sort_values(by='Postal Code', ascending=True,inplace = True)\n",
    "df['Latitude'] = d1['Latitude']\n",
    "df['Longitude']= d1['Longitude']"
   ]
  },
  {
   "cell_type": "code",
   "execution_count": 8,
   "metadata": {},
   "outputs": [],
   "source": [
    "sub ='Toronto'\n",
    "df['Index']= df['Borough'].str.find(sub) "
   ]
  },
  {
   "cell_type": "markdown",
   "metadata": {},
   "source": [
    "\n",
    "### The below operation is used for removing the rows which donts have the name toronto in it and also for dropping of the index column"
   ]
  },
  {
   "cell_type": "code",
   "execution_count": 9,
   "metadata": {},
   "outputs": [],
   "source": [
    "indexNames_1 = df[ (df['Index'] == -1)].index\n",
    "df.drop(indexNames_1 , inplace=True)\n"
   ]
  },
  {
   "cell_type": "code",
   "execution_count": 10,
   "metadata": {},
   "outputs": [],
   "source": [
    "df.drop(['Index'], axis = 1, inplace = True)\n"
   ]
  },
  {
   "cell_type": "code",
   "execution_count": 11,
   "metadata": {},
   "outputs": [
    {
     "data": {
      "text/html": [
       "<div>\n",
       "<style scoped>\n",
       "    .dataframe tbody tr th:only-of-type {\n",
       "        vertical-align: middle;\n",
       "    }\n",
       "\n",
       "    .dataframe tbody tr th {\n",
       "        vertical-align: top;\n",
       "    }\n",
       "\n",
       "    .dataframe thead th {\n",
       "        text-align: right;\n",
       "    }\n",
       "</style>\n",
       "<table border=\"1\" class=\"dataframe\">\n",
       "  <thead>\n",
       "    <tr style=\"text-align: right;\">\n",
       "      <th></th>\n",
       "      <th>Postal code</th>\n",
       "      <th>Borough</th>\n",
       "      <th>Neighborhood</th>\n",
       "      <th>Latitude</th>\n",
       "      <th>Longitude</th>\n",
       "    </tr>\n",
       "  </thead>\n",
       "  <tbody>\n",
       "    <tr>\n",
       "      <th>0</th>\n",
       "      <td>M4E</td>\n",
       "      <td>East Toronto</td>\n",
       "      <td>The Beaches</td>\n",
       "      <td>43.676357</td>\n",
       "      <td>-79.293031</td>\n",
       "    </tr>\n",
       "    <tr>\n",
       "      <th>1</th>\n",
       "      <td>M4K</td>\n",
       "      <td>East Toronto</td>\n",
       "      <td>The Danforth West , Riverdale</td>\n",
       "      <td>43.679557</td>\n",
       "      <td>-79.352188</td>\n",
       "    </tr>\n",
       "    <tr>\n",
       "      <th>2</th>\n",
       "      <td>M4L</td>\n",
       "      <td>East Toronto</td>\n",
       "      <td>India Bazaar , The Beaches West</td>\n",
       "      <td>43.668999</td>\n",
       "      <td>-79.315572</td>\n",
       "    </tr>\n",
       "    <tr>\n",
       "      <th>3</th>\n",
       "      <td>M4M</td>\n",
       "      <td>East Toronto</td>\n",
       "      <td>Studio District</td>\n",
       "      <td>43.659526</td>\n",
       "      <td>-79.340923</td>\n",
       "    </tr>\n",
       "    <tr>\n",
       "      <th>4</th>\n",
       "      <td>M4N</td>\n",
       "      <td>Central Toronto</td>\n",
       "      <td>Lawrence Park</td>\n",
       "      <td>43.728020</td>\n",
       "      <td>-79.388790</td>\n",
       "    </tr>\n",
       "    <tr>\n",
       "      <th>5</th>\n",
       "      <td>M4P</td>\n",
       "      <td>Central Toronto</td>\n",
       "      <td>Davisville North</td>\n",
       "      <td>43.712751</td>\n",
       "      <td>-79.390197</td>\n",
       "    </tr>\n",
       "    <tr>\n",
       "      <th>6</th>\n",
       "      <td>M4R</td>\n",
       "      <td>Central Toronto</td>\n",
       "      <td>North Toronto West</td>\n",
       "      <td>43.715383</td>\n",
       "      <td>-79.405678</td>\n",
       "    </tr>\n",
       "    <tr>\n",
       "      <th>7</th>\n",
       "      <td>M4S</td>\n",
       "      <td>Central Toronto</td>\n",
       "      <td>Davisville</td>\n",
       "      <td>43.704324</td>\n",
       "      <td>-79.388790</td>\n",
       "    </tr>\n",
       "    <tr>\n",
       "      <th>8</th>\n",
       "      <td>M4T</td>\n",
       "      <td>Central Toronto</td>\n",
       "      <td>Moore Park , Summerhill East</td>\n",
       "      <td>43.689574</td>\n",
       "      <td>-79.383160</td>\n",
       "    </tr>\n",
       "    <tr>\n",
       "      <th>9</th>\n",
       "      <td>M4V</td>\n",
       "      <td>Central Toronto</td>\n",
       "      <td>Summerhill West , Rathnelly , South Hill , For...</td>\n",
       "      <td>43.686412</td>\n",
       "      <td>-79.400049</td>\n",
       "    </tr>\n",
       "    <tr>\n",
       "      <th>10</th>\n",
       "      <td>M4W</td>\n",
       "      <td>Downtown Toronto</td>\n",
       "      <td>Rosedale</td>\n",
       "      <td>43.679563</td>\n",
       "      <td>-79.377529</td>\n",
       "    </tr>\n",
       "    <tr>\n",
       "      <th>11</th>\n",
       "      <td>M4X</td>\n",
       "      <td>Downtown Toronto</td>\n",
       "      <td>St. James Town , Cabbagetown</td>\n",
       "      <td>43.667967</td>\n",
       "      <td>-79.367675</td>\n",
       "    </tr>\n",
       "    <tr>\n",
       "      <th>12</th>\n",
       "      <td>M4Y</td>\n",
       "      <td>Downtown Toronto</td>\n",
       "      <td>Church and Wellesley</td>\n",
       "      <td>43.665860</td>\n",
       "      <td>-79.383160</td>\n",
       "    </tr>\n",
       "    <tr>\n",
       "      <th>13</th>\n",
       "      <td>M5A</td>\n",
       "      <td>Downtown Toronto</td>\n",
       "      <td>Regent Park , Harbourfront</td>\n",
       "      <td>43.654260</td>\n",
       "      <td>-79.360636</td>\n",
       "    </tr>\n",
       "    <tr>\n",
       "      <th>14</th>\n",
       "      <td>M5B</td>\n",
       "      <td>Downtown Toronto</td>\n",
       "      <td>Garden District, Ryerson</td>\n",
       "      <td>43.657162</td>\n",
       "      <td>-79.378937</td>\n",
       "    </tr>\n",
       "    <tr>\n",
       "      <th>15</th>\n",
       "      <td>M5C</td>\n",
       "      <td>Downtown Toronto</td>\n",
       "      <td>St. James Town</td>\n",
       "      <td>43.651494</td>\n",
       "      <td>-79.375418</td>\n",
       "    </tr>\n",
       "    <tr>\n",
       "      <th>16</th>\n",
       "      <td>M5E</td>\n",
       "      <td>Downtown Toronto</td>\n",
       "      <td>Berczy Park</td>\n",
       "      <td>43.644771</td>\n",
       "      <td>-79.373306</td>\n",
       "    </tr>\n",
       "    <tr>\n",
       "      <th>17</th>\n",
       "      <td>M5G</td>\n",
       "      <td>Downtown Toronto</td>\n",
       "      <td>Central Bay Street</td>\n",
       "      <td>43.657952</td>\n",
       "      <td>-79.387383</td>\n",
       "    </tr>\n",
       "    <tr>\n",
       "      <th>18</th>\n",
       "      <td>M5H</td>\n",
       "      <td>Downtown Toronto</td>\n",
       "      <td>Richmond , Adelaide , King</td>\n",
       "      <td>43.650571</td>\n",
       "      <td>-79.384568</td>\n",
       "    </tr>\n",
       "    <tr>\n",
       "      <th>19</th>\n",
       "      <td>M5J</td>\n",
       "      <td>Downtown Toronto</td>\n",
       "      <td>Harbourfront East , Union Station , Toronto Is...</td>\n",
       "      <td>43.640816</td>\n",
       "      <td>-79.381752</td>\n",
       "    </tr>\n",
       "    <tr>\n",
       "      <th>20</th>\n",
       "      <td>M5K</td>\n",
       "      <td>Downtown Toronto</td>\n",
       "      <td>Toronto Dominion Centre , Design Exchange</td>\n",
       "      <td>43.647177</td>\n",
       "      <td>-79.381576</td>\n",
       "    </tr>\n",
       "    <tr>\n",
       "      <th>21</th>\n",
       "      <td>M5L</td>\n",
       "      <td>Downtown Toronto</td>\n",
       "      <td>Commerce Court , Victoria Hotel</td>\n",
       "      <td>43.648198</td>\n",
       "      <td>-79.379817</td>\n",
       "    </tr>\n",
       "    <tr>\n",
       "      <th>22</th>\n",
       "      <td>M5N</td>\n",
       "      <td>Central Toronto</td>\n",
       "      <td>Roselawn</td>\n",
       "      <td>43.711695</td>\n",
       "      <td>-79.416936</td>\n",
       "    </tr>\n",
       "    <tr>\n",
       "      <th>23</th>\n",
       "      <td>M5P</td>\n",
       "      <td>Central Toronto</td>\n",
       "      <td>Forest Hill North &amp; West</td>\n",
       "      <td>43.696948</td>\n",
       "      <td>-79.411307</td>\n",
       "    </tr>\n",
       "    <tr>\n",
       "      <th>24</th>\n",
       "      <td>M5R</td>\n",
       "      <td>Central Toronto</td>\n",
       "      <td>The Annex , North Midtown , Yorkville</td>\n",
       "      <td>43.672710</td>\n",
       "      <td>-79.405678</td>\n",
       "    </tr>\n",
       "    <tr>\n",
       "      <th>25</th>\n",
       "      <td>M5S</td>\n",
       "      <td>Downtown Toronto</td>\n",
       "      <td>University of Toronto , Harbord</td>\n",
       "      <td>43.662696</td>\n",
       "      <td>-79.400049</td>\n",
       "    </tr>\n",
       "    <tr>\n",
       "      <th>26</th>\n",
       "      <td>M5T</td>\n",
       "      <td>Downtown Toronto</td>\n",
       "      <td>Kensington Market , Chinatown , Grange Park</td>\n",
       "      <td>43.653206</td>\n",
       "      <td>-79.400049</td>\n",
       "    </tr>\n",
       "    <tr>\n",
       "      <th>27</th>\n",
       "      <td>M5V</td>\n",
       "      <td>Downtown Toronto</td>\n",
       "      <td>CN Tower , King and Spadina , Railway Lands , ...</td>\n",
       "      <td>43.628947</td>\n",
       "      <td>-79.394420</td>\n",
       "    </tr>\n",
       "    <tr>\n",
       "      <th>28</th>\n",
       "      <td>M5W</td>\n",
       "      <td>Downtown Toronto</td>\n",
       "      <td>Stn A PO Boxes</td>\n",
       "      <td>43.646435</td>\n",
       "      <td>-79.374846</td>\n",
       "    </tr>\n",
       "    <tr>\n",
       "      <th>29</th>\n",
       "      <td>M5X</td>\n",
       "      <td>Downtown Toronto</td>\n",
       "      <td>First Canadian Place , Underground city</td>\n",
       "      <td>43.648429</td>\n",
       "      <td>-79.382280</td>\n",
       "    </tr>\n",
       "    <tr>\n",
       "      <th>30</th>\n",
       "      <td>M6G</td>\n",
       "      <td>Downtown Toronto</td>\n",
       "      <td>Christie</td>\n",
       "      <td>43.669542</td>\n",
       "      <td>-79.422564</td>\n",
       "    </tr>\n",
       "    <tr>\n",
       "      <th>31</th>\n",
       "      <td>M6H</td>\n",
       "      <td>West Toronto</td>\n",
       "      <td>Dufferin , Dovercourt Village</td>\n",
       "      <td>43.669005</td>\n",
       "      <td>-79.442259</td>\n",
       "    </tr>\n",
       "    <tr>\n",
       "      <th>32</th>\n",
       "      <td>M6J</td>\n",
       "      <td>West Toronto</td>\n",
       "      <td>Little Portugal , Trinity</td>\n",
       "      <td>43.647927</td>\n",
       "      <td>-79.419750</td>\n",
       "    </tr>\n",
       "    <tr>\n",
       "      <th>33</th>\n",
       "      <td>M6K</td>\n",
       "      <td>West Toronto</td>\n",
       "      <td>Brockton , Parkdale Village , Exhibition Place</td>\n",
       "      <td>43.636847</td>\n",
       "      <td>-79.428191</td>\n",
       "    </tr>\n",
       "    <tr>\n",
       "      <th>34</th>\n",
       "      <td>M6P</td>\n",
       "      <td>West Toronto</td>\n",
       "      <td>High Park , The Junction South</td>\n",
       "      <td>43.661608</td>\n",
       "      <td>-79.464763</td>\n",
       "    </tr>\n",
       "    <tr>\n",
       "      <th>35</th>\n",
       "      <td>M6R</td>\n",
       "      <td>West Toronto</td>\n",
       "      <td>Parkdale , Roncesvalles</td>\n",
       "      <td>43.648960</td>\n",
       "      <td>-79.456325</td>\n",
       "    </tr>\n",
       "    <tr>\n",
       "      <th>36</th>\n",
       "      <td>M6S</td>\n",
       "      <td>West Toronto</td>\n",
       "      <td>Runnymede , Swansea</td>\n",
       "      <td>43.651571</td>\n",
       "      <td>-79.484450</td>\n",
       "    </tr>\n",
       "    <tr>\n",
       "      <th>37</th>\n",
       "      <td>M7A</td>\n",
       "      <td>Downtown Toronto</td>\n",
       "      <td>Queen's Park , Ontario Provincial Government</td>\n",
       "      <td>43.662301</td>\n",
       "      <td>-79.389494</td>\n",
       "    </tr>\n",
       "    <tr>\n",
       "      <th>38</th>\n",
       "      <td>M7Y</td>\n",
       "      <td>East Toronto</td>\n",
       "      <td>Business reply mail Processing CentrE</td>\n",
       "      <td>43.662744</td>\n",
       "      <td>-79.321558</td>\n",
       "    </tr>\n",
       "  </tbody>\n",
       "</table>\n",
       "</div>"
      ],
      "text/plain": [
       "   Postal code           Borough  \\\n",
       "0          M4E      East Toronto   \n",
       "1          M4K      East Toronto   \n",
       "2          M4L      East Toronto   \n",
       "3          M4M      East Toronto   \n",
       "4          M4N   Central Toronto   \n",
       "5          M4P   Central Toronto   \n",
       "6          M4R   Central Toronto   \n",
       "7          M4S   Central Toronto   \n",
       "8          M4T   Central Toronto   \n",
       "9          M4V   Central Toronto   \n",
       "10         M4W  Downtown Toronto   \n",
       "11         M4X  Downtown Toronto   \n",
       "12         M4Y  Downtown Toronto   \n",
       "13         M5A  Downtown Toronto   \n",
       "14         M5B  Downtown Toronto   \n",
       "15         M5C  Downtown Toronto   \n",
       "16         M5E  Downtown Toronto   \n",
       "17         M5G  Downtown Toronto   \n",
       "18         M5H  Downtown Toronto   \n",
       "19         M5J  Downtown Toronto   \n",
       "20         M5K  Downtown Toronto   \n",
       "21         M5L  Downtown Toronto   \n",
       "22         M5N   Central Toronto   \n",
       "23         M5P   Central Toronto   \n",
       "24         M5R   Central Toronto   \n",
       "25         M5S  Downtown Toronto   \n",
       "26         M5T  Downtown Toronto   \n",
       "27         M5V  Downtown Toronto   \n",
       "28         M5W  Downtown Toronto   \n",
       "29         M5X  Downtown Toronto   \n",
       "30         M6G  Downtown Toronto   \n",
       "31         M6H      West Toronto   \n",
       "32         M6J      West Toronto   \n",
       "33         M6K      West Toronto   \n",
       "34         M6P      West Toronto   \n",
       "35         M6R      West Toronto   \n",
       "36         M6S      West Toronto   \n",
       "37         M7A  Downtown Toronto   \n",
       "38         M7Y      East Toronto   \n",
       "\n",
       "                                         Neighborhood   Latitude  Longitude  \n",
       "0                                         The Beaches  43.676357 -79.293031  \n",
       "1                       The Danforth West , Riverdale  43.679557 -79.352188  \n",
       "2                     India Bazaar , The Beaches West  43.668999 -79.315572  \n",
       "3                                     Studio District  43.659526 -79.340923  \n",
       "4                                       Lawrence Park  43.728020 -79.388790  \n",
       "5                                    Davisville North  43.712751 -79.390197  \n",
       "6                                  North Toronto West  43.715383 -79.405678  \n",
       "7                                          Davisville  43.704324 -79.388790  \n",
       "8                        Moore Park , Summerhill East  43.689574 -79.383160  \n",
       "9   Summerhill West , Rathnelly , South Hill , For...  43.686412 -79.400049  \n",
       "10                                           Rosedale  43.679563 -79.377529  \n",
       "11                       St. James Town , Cabbagetown  43.667967 -79.367675  \n",
       "12                               Church and Wellesley  43.665860 -79.383160  \n",
       "13                         Regent Park , Harbourfront  43.654260 -79.360636  \n",
       "14                           Garden District, Ryerson  43.657162 -79.378937  \n",
       "15                                     St. James Town  43.651494 -79.375418  \n",
       "16                                        Berczy Park  43.644771 -79.373306  \n",
       "17                                 Central Bay Street  43.657952 -79.387383  \n",
       "18                         Richmond , Adelaide , King  43.650571 -79.384568  \n",
       "19  Harbourfront East , Union Station , Toronto Is...  43.640816 -79.381752  \n",
       "20          Toronto Dominion Centre , Design Exchange  43.647177 -79.381576  \n",
       "21                    Commerce Court , Victoria Hotel  43.648198 -79.379817  \n",
       "22                                           Roselawn  43.711695 -79.416936  \n",
       "23                           Forest Hill North & West  43.696948 -79.411307  \n",
       "24              The Annex , North Midtown , Yorkville  43.672710 -79.405678  \n",
       "25                    University of Toronto , Harbord  43.662696 -79.400049  \n",
       "26        Kensington Market , Chinatown , Grange Park  43.653206 -79.400049  \n",
       "27  CN Tower , King and Spadina , Railway Lands , ...  43.628947 -79.394420  \n",
       "28                                     Stn A PO Boxes  43.646435 -79.374846  \n",
       "29            First Canadian Place , Underground city  43.648429 -79.382280  \n",
       "30                                           Christie  43.669542 -79.422564  \n",
       "31                      Dufferin , Dovercourt Village  43.669005 -79.442259  \n",
       "32                          Little Portugal , Trinity  43.647927 -79.419750  \n",
       "33     Brockton , Parkdale Village , Exhibition Place  43.636847 -79.428191  \n",
       "34                     High Park , The Junction South  43.661608 -79.464763  \n",
       "35                            Parkdale , Roncesvalles  43.648960 -79.456325  \n",
       "36                                Runnymede , Swansea  43.651571 -79.484450  \n",
       "37       Queen's Park , Ontario Provincial Government  43.662301 -79.389494  \n",
       "38              Business reply mail Processing CentrE  43.662744 -79.321558  "
      ]
     },
     "execution_count": 11,
     "metadata": {},
     "output_type": "execute_result"
    }
   ],
   "source": [
    "df.reset_index(inplace= True, drop = True)\n",
    "df"
   ]
  },
  {
   "cell_type": "markdown",
   "metadata": {},
   "source": [
    "###  Operation for visualisaing the toronto.  Here the toronto address is given and then the neighbohrhoods of the toronto are plotted in it"
   ]
  },
  {
   "cell_type": "code",
   "execution_count": 12,
   "metadata": {},
   "outputs": [
    {
     "name": "stdout",
     "output_type": "stream",
     "text": [
      "The geograpical coordinate of Toronto City are 43.6534817, -79.3839347.\n"
     ]
    }
   ],
   "source": [
    "address = 'Toronto, TO'\n",
    "\n",
    "geolocator = Nominatim(user_agent=\"to_explorer\")\n",
    "location = geolocator.geocode(address)\n",
    "latitude = location.latitude\n",
    "longitude = location.longitude\n",
    "print('The geograpical coordinate of Toronto City are {}, {}.'.format(latitude, longitude))"
   ]
  },
  {
   "cell_type": "code",
   "execution_count": 13,
   "metadata": {
    "scrolled": true
   },
   "outputs": [
    {
     "data": {
      "text/html": [
       "<div style=\"width:100%;\"><div style=\"position:relative;width:100%;height:0;padding-bottom:60%;\"><iframe src=\"about:blank\" style=\"position:absolute;width:100%;height:100%;left:0;top:0;border:none !important;\" data-html=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 onload=\"this.contentDocument.open();this.contentDocument.write(atob(this.getAttribute('data-html')));this.contentDocument.close();\" allowfullscreen webkitallowfullscreen mozallowfullscreen></iframe></div></div>"
      ],
      "text/plain": [
       "<folium.folium.Map at 0x7f6970be8ba8>"
      ]
     },
     "execution_count": 13,
     "metadata": {},
     "output_type": "execute_result"
    }
   ],
   "source": [
    "# create map of New York using latitude and longitude values\n",
    "map_toronto = folium.Map(location=[latitude, longitude], zoom_start=10)\n",
    "\n",
    "# add markers to map\n",
    "for lat, lng, borough, neighborhood in zip(df['Latitude'], df['Longitude'], df['Borough'], df['Neighborhood']):\n",
    "    label = '{}, {}'.format(neighborhood, borough)\n",
    "    label = folium.Popup(label, parse_html=True)\n",
    "    folium.CircleMarker(\n",
    "        [lat, lng],\n",
    "        radius=5,\n",
    "        popup=label,\n",
    "        color='blue',\n",
    "        fill=True,\n",
    "        fill_color='#3186cc',\n",
    "        fill_opacity=0.7,\n",
    "        parse_html=False).add_to(map_toronto)  \n",
    "    \n",
    "map_toronto"
   ]
  },
  {
   "cell_type": "markdown",
   "metadata": {},
   "source": [
    "### Interesting to visualize in th map is that the data are clustered around down central which is near to the city airport"
   ]
  },
  {
   "cell_type": "code",
   "execution_count": null,
   "metadata": {},
   "outputs": [],
   "source": []
  }
 ],
 "metadata": {
  "kernelspec": {
   "display_name": "Python 3.6",
   "language": "python",
   "name": "python3"
  },
  "language_info": {
   "codemirror_mode": {
    "name": "ipython",
    "version": 3
   },
   "file_extension": ".py",
   "mimetype": "text/x-python",
   "name": "python",
   "nbconvert_exporter": "python",
   "pygments_lexer": "ipython3",
   "version": "3.6.9"
  }
 },
 "nbformat": 4,
 "nbformat_minor": 1
}
